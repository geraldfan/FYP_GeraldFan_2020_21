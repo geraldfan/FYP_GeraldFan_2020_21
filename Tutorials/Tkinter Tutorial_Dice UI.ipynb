{
 "cells": [
  {
   "cell_type": "code",
   "execution_count": 4,
   "metadata": {},
   "outputs": [],
   "source": [
    "import tkinter as tk\n",
    "import random as rand\n",
    "\n",
    "def roll():\n",
    "    lbl_result[\"text\"] = str(rand.randint(1,6))\n",
    "    \n",
    "window = tk.Tk()\n",
    "window.columnconfigure(0, minsize=150)\n",
    "window.rowconfigure([0, 1], minsize=50)\n",
    "\n",
    "btn_roll =tk.Button(text = \"Roll\", command = roll)\n",
    "lbl_result = tk.Label()\n",
    "\n",
    "btn_roll.grid(row = 0, column = 0, sticky = \"nsew\")\n",
    "lbl_result.grid(row = 1, column = 0)\n",
    "\n",
    "window.mainloop()"
   ]
  },
  {
   "cell_type": "code",
   "execution_count": null,
   "metadata": {},
   "outputs": [],
   "source": []
  }
 ],
 "metadata": {
  "kernelspec": {
   "display_name": "Python 3",
   "language": "python",
   "name": "python3"
  },
  "language_info": {
   "codemirror_mode": {
    "name": "ipython",
    "version": 3
   },
   "file_extension": ".py",
   "mimetype": "text/x-python",
   "name": "python",
   "nbconvert_exporter": "python",
   "pygments_lexer": "ipython3",
   "version": "3.6.5"
  }
 },
 "nbformat": 4,
 "nbformat_minor": 2
}
