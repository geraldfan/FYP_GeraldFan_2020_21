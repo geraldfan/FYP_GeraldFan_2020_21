{
 "cells": [
  {
   "cell_type": "code",
   "execution_count": null,
   "metadata": {},
   "outputs": [],
   "source": [
    "from tkinter import *\n",
    "\n",
    "from tkinter import messagebox\n",
    "\n",
    "window = Tk()\n",
    "\n",
    "window.title(\"Welcome to LikeGeeks app\")\n",
    "\n",
    "window.geometry('350x200')\n",
    "\n",
    "def clicked():\n",
    "    messagebox.showinfo('Message title', 'Message content')\n",
    "    # messagebox.showwarning('Message title', 'Message content') // Show warning\n",
    "    # messagebox.showerror('Message title', 'Message concent') //Show error\n",
    "\n",
    "#res = messagebox.askyesnocancel('Message title', 'Message content') // \n",
    "btn = Button(window, text = 'Click here', command = clicked)\n",
    "btn.grid(column = 0, row = 0)\n",
    "window.mainloop()"
   ]
  },
  {
   "cell_type": "code",
   "execution_count": null,
   "metadata": {},
   "outputs": [],
   "source": []
  }
 ],
 "metadata": {
  "kernelspec": {
   "display_name": "Python 3",
   "language": "python",
   "name": "python3"
  },
  "language_info": {
   "codemirror_mode": {
    "name": "ipython",
    "version": 3
   },
   "file_extension": ".py",
   "mimetype": "text/x-python",
   "name": "python",
   "nbconvert_exporter": "python",
   "pygments_lexer": "ipython3",
   "version": "3.6.5"
  }
 },
 "nbformat": 4,
 "nbformat_minor": 2
}
