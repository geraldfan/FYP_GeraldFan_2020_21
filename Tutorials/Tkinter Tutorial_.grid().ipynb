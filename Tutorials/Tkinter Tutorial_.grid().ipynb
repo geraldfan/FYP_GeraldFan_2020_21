{
 "cells": [
  {
   "cell_type": "code",
   "execution_count": 11,
   "metadata": {},
   "outputs": [],
   "source": [
    "import tkinter as tk\n",
    "\n",
    "window = tk.Tk()\n",
    "# for i in range(3):\n",
    "#     # Lets the grid layout contract and expand smoothly as the window is resized\n",
    "#     window.columnconfigure(i, weight = 1, minsize = 75)\n",
    "#     window.rowconfigure(i, weight = 1, minsize = 50)\n",
    "#     for j in range(3):\n",
    "#         frame = tk.Frame(\n",
    "#             master = window,\n",
    "#             relief = tk.RAISED,\n",
    "#             borderwidth = 1\n",
    "#         )\n",
    "#         frame.grid(row = i, column = j, padx = 5, pady = 5)\n",
    "#         label = tk.Label(master = frame, text = f\"Row {i}\\nColumn {j}\")\n",
    "#         label.pack(padx = 5, pady = 5)\n",
    "\n",
    "\n",
    "\n",
    "# window.columnconfigure(0, minsize=250)\n",
    "# window.rowconfigure([0, 1], minsize=100)\n",
    "\n",
    "# # sticky \"sticks\" the label to nsew\n",
    "# label1 = tk.Label(text=\"A\")\n",
    "# label1.grid(row=0, column=0, sticky = \"ne\")\n",
    "\n",
    "# label2 = tk.Label(text=\"B\")\n",
    "# label2.grid(row=1, column=0, sticky = \"sw\")\n",
    "\n",
    "window.rowconfigure(0, minsize=50)\n",
    "window.columnconfigure([0, 1, 2, 3], minsize=50)\n",
    "\n",
    "label1 = tk.Label(text=\"1\", bg=\"black\", fg=\"white\")\n",
    "label2 = tk.Label(text=\"2\", bg=\"black\", fg=\"white\")\n",
    "label3 = tk.Label(text=\"3\", bg=\"black\", fg=\"white\")\n",
    "label4 = tk.Label(text=\"4\", bg=\"black\", fg=\"white\")\n",
    "\n",
    "label1.grid(row=0, column=0)\n",
    "label2.grid(row=0, column=1, sticky=\"ew\") # same as fill = tk.X\n",
    "label3.grid(row=0, column=2, sticky=\"ns\") # Same as fill = tk.Y\n",
    "label4.grid(row=0, column=3, sticky=\"nsew\") # same as fill = tk.BOTH\n",
    "\n",
    "window.mainloop()\n",
    "        "
   ]
  },
  {
   "cell_type": "code",
   "execution_count": null,
   "metadata": {},
   "outputs": [],
   "source": []
  }
 ],
 "metadata": {
  "kernelspec": {
   "display_name": "Python 3",
   "language": "python",
   "name": "python3"
  },
  "language_info": {
   "codemirror_mode": {
    "name": "ipython",
    "version": 3
   },
   "file_extension": ".py",
   "mimetype": "text/x-python",
   "name": "python",
   "nbconvert_exporter": "python",
   "pygments_lexer": "ipython3",
   "version": "3.6.5"
  }
 },
 "nbformat": 4,
 "nbformat_minor": 2
}
