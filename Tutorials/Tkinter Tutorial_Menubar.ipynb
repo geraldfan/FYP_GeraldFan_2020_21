{
 "cells": [
  {
   "cell_type": "code",
   "execution_count": 6,
   "metadata": {},
   "outputs": [
    {
     "name": "stdout",
     "output_type": "stream",
     "text": [
      "test\n"
     ]
    }
   ],
   "source": [
    "from tkinter import *\n",
    "\n",
    "from tkinter import Menu\n",
    "\n",
    "window = Tk()\n",
    "\n",
    "window.title(\"Welcome to LikeGeeks app\")\n",
    "\n",
    "def clicked():\n",
    "    print('test')\n",
    "    \n",
    "menu = Menu(window)\n",
    "new_item = Menu(menu, tearoff = 0)\n",
    "new_item.add_command(label = 'New', command = clicked)\n",
    "new_item.add_separator()\n",
    "new_item.add_command(label = 'Edit')\n",
    "menu.add_cascade(label = 'File', menu = new_item)\n",
    "window.config(menu = menu)\n",
    "window.mainloop()"
   ]
  },
  {
   "cell_type": "code",
   "execution_count": null,
   "metadata": {},
   "outputs": [],
   "source": []
  }
 ],
 "metadata": {
  "kernelspec": {
   "display_name": "Python 3",
   "language": "python",
   "name": "python3"
  },
  "language_info": {
   "codemirror_mode": {
    "name": "ipython",
    "version": 3
   },
   "file_extension": ".py",
   "mimetype": "text/x-python",
   "name": "python",
   "nbconvert_exporter": "python",
   "pygments_lexer": "ipython3",
   "version": "3.6.5"
  }
 },
 "nbformat": 4,
 "nbformat_minor": 2
}
