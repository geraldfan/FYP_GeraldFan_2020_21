{
 "cells": [
  {
   "cell_type": "code",
   "execution_count": 4,
   "metadata": {},
   "outputs": [],
   "source": [
    "import tkinter as tk\n",
    "\n",
    "window = tk.Tk()\n",
    "\n",
    "window.rowconfigure(0, minsize=50, weight=1)\n",
    "window.columnconfigure([0, 1, 2], minsize=50, weight=1)\n",
    "\n",
    "def increase():\n",
    "    value = int(lbl_value[\"text\"])\n",
    "    lbl_value[\"text\"] = f\"{value + 1}\"\n",
    "\n",
    "def decrease():\n",
    "    value = int(lbl_value[\"text\"])\n",
    "    lbl_value[\"text\"] = f\"{value - 1}\"\n",
    "    \n",
    "btn_decrease = tk.Button(master=window, text=\"-\", command = decrease)\n",
    "btn_decrease.grid(row=0, column=0, sticky=\"nsew\")\n",
    "\n",
    "lbl_value = tk.Label(master=window, text=\"0\")\n",
    "lbl_value.grid(row=0, column=1)\n",
    "\n",
    "btn_increase = tk.Button(master=window, text=\"+\", command = increase)\n",
    "btn_increase.grid(row=0, column=2, sticky=\"nsew\")\n",
    "\n",
    "window.mainloop()"
   ]
  },
  {
   "cell_type": "code",
   "execution_count": null,
   "metadata": {},
   "outputs": [],
   "source": []
  }
 ],
 "metadata": {
  "kernelspec": {
   "display_name": "Python 3",
   "language": "python",
   "name": "python3"
  },
  "language_info": {
   "codemirror_mode": {
    "name": "ipython",
    "version": 3
   },
   "file_extension": ".py",
   "mimetype": "text/x-python",
   "name": "python",
   "nbconvert_exporter": "python",
   "pygments_lexer": "ipython3",
   "version": "3.6.5"
  }
 },
 "nbformat": 4,
 "nbformat_minor": 2
}
