{
 "cells": [
  {
   "cell_type": "code",
   "execution_count": 5,
   "metadata": {},
   "outputs": [
    {
     "name": "stdout",
     "output_type": "stream",
     "text": [
      "The button was clicked!\n",
      "The button was clicked!\n",
      "The button was clicked!\n",
      "The button was clicked!\n",
      "The button was clicked!\n",
      "The button was clicked!\n",
      "The button was clicked!\n",
      "The button was clicked!\n",
      "The button was clicked!\n",
      "The button was clicked!\n",
      "The button was clicked!\n",
      "The button was clicked!\n",
      "The button was clicked!\n",
      "The button was clicked!\n"
     ]
    }
   ],
   "source": [
    "import tkinter as tk\n",
    "\n",
    "# Create a window object\n",
    "window = tk.Tk()\n",
    "\n",
    "# Create an event handler\n",
    "def handle_keypress(event):\n",
    "    \"\"\"Print the character associated to the key pressed\"\"\"\n",
    "    print(event.char)\n",
    "\n",
    "# Bind keypress event to handle_keypress()\n",
    "window.bind(\"<Key>\", handle_keypress)\n",
    "\n",
    "# Event handling for buttons\n",
    "def handle_click(event):\n",
    "    print(\"The button was clicked!\")\n",
    "\n",
    "button = tk.Button(text=\"Click me!\")\n",
    "button.pack()\n",
    "\n",
    "button.bind(\"<Button-1>\", handle_click)\n",
    "\n",
    "# Run the event loop\n",
    "window.mainloop()"
   ]
  },
  {
   "cell_type": "code",
   "execution_count": null,
   "metadata": {},
   "outputs": [],
   "source": []
  }
 ],
 "metadata": {
  "kernelspec": {
   "display_name": "Python 3",
   "language": "python",
   "name": "python3"
  },
  "language_info": {
   "codemirror_mode": {
    "name": "ipython",
    "version": 3
   },
   "file_extension": ".py",
   "mimetype": "text/x-python",
   "name": "python",
   "nbconvert_exporter": "python",
   "pygments_lexer": "ipython3",
   "version": "3.6.5"
  }
 },
 "nbformat": 4,
 "nbformat_minor": 2
}
