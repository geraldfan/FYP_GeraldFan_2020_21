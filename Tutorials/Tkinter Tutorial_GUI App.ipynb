{
 "cells": [
  {
   "cell_type": "code",
   "execution_count": 4,
   "metadata": {},
   "outputs": [],
   "source": [
    "import tkinter as tk\n",
    "\n",
    "window = tk.Tk()\n",
    "window.title(\"Welcome to this app\")\n",
    "window.geometry('350x200')\n",
    "\n",
    "# Label\n",
    "lbl = tk.Label(window, text = \"Hello\")\n",
    "lbl.grid(column = 0, row = 0)\n",
    "\n",
    "#Entry Widget\n",
    "# txt = Entry(window, width = 10 , state = 'disabled') // Disables the entry widget\n",
    "txt = tk.Entry(window, width = 10)\n",
    "txt.grid(column = 1, row = 0)\n",
    "# txt.focus() // Calls focus onto the entry widget\n",
    "\n",
    "#Button\n",
    "def clicked():\n",
    "    lbl.configure(text = \"Welcome to \" + txt.get())\n",
    "btn = tk.Button(window, text = \"Click Me\", bg = \"grey\", fg = \"black\", command = clicked)\n",
    "btn.grid(column = 2, row = 0)\n",
    "\n",
    "window.mainloop()"
   ]
  },
  {
   "cell_type": "code",
   "execution_count": null,
   "metadata": {},
   "outputs": [],
   "source": []
  }
 ],
 "metadata": {
  "kernelspec": {
   "display_name": "Python 3",
   "language": "python",
   "name": "python3"
  },
  "language_info": {
   "codemirror_mode": {
    "name": "ipython",
    "version": 3
   },
   "file_extension": ".py",
   "mimetype": "text/x-python",
   "name": "python",
   "nbconvert_exporter": "python",
   "pygments_lexer": "ipython3",
   "version": "3.6.5"
  }
 },
 "nbformat": 4,
 "nbformat_minor": 2
}
