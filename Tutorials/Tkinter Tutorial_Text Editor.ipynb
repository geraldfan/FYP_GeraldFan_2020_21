{
 "cells": [
  {
   "cell_type": "code",
   "execution_count": 2,
   "metadata": {},
   "outputs": [],
   "source": [
    "import tkinter as tk\n",
    "from tkinter.filedialog import askopenfilename, asksaveasfilename\n",
    "\n",
    "\n",
    "def open_file():\n",
    "    filepath = askopenfilename(\n",
    "        filetypes = [(\"Text Files\", \"*.txt\"), (\"All Files\", \"*.*\")]\n",
    "    )\n",
    "    \n",
    "    if not filepath:\n",
    "        return\n",
    "    \n",
    "    txt_edit.delete(\"1.0\", tk.END)\n",
    "    with open(filepath, \"r\") as input_file:\n",
    "        text = input_file.read()\n",
    "        txt_edit.insert(tk.END, text)\n",
    "    window.title(f\"Simple Text Editor - {filepath}\")\n",
    "    \n",
    "def save_file():\n",
    "    filepath = asksaveasfilename(\n",
    "        defaultextension = \"txt\",\n",
    "        filetypes = [(\"Text Files\", \"*.txt\"), (\"All Files\", \"*.*\")]\n",
    "    )\n",
    "    \n",
    "    if not filepath:\n",
    "        return\n",
    "    with open(filepath, \"w\") as output_file:\n",
    "            text = txt_edit.get(\"1.0\", tk.END)\n",
    "            output_file.write(text)\n",
    "    window.title(f\"Simple Text Editor - {filepath}\")\n",
    "\n",
    "window = tk.Tk()\n",
    "window.title(\"Simple Text Editor\")\n",
    "\n",
    "window.rowconfigure(0, minsize = 800, weight = 1)\n",
    "window.columnconfigure(1, minsize = 800, weight = 1)\n",
    "\n",
    "txt_edit = tk.Text(window)\n",
    "frame_buttons = tk.Frame(window)\n",
    "button_open = tk.Button(frame_buttons, text = \"Open\", command = open_file)\n",
    "button_save = tk.Button(frame_buttons, text = \"Save as...\", command = save_file)\n",
    "\n",
    "frame_buttons.grid(row = 0, column = 0, sticky = \"ns\")\n",
    "button_open.grid(row = 0, column = 0, sticky = \"ew\", padx = 5, pady = 5)\n",
    "button_save.grid(row = 1, column = 0, sticky = \"ew\", padx = 5)\n",
    "txt_edit.grid(row = 0, column = 1, sticky = \"nsew\")\n",
    "\n",
    "window.mainloop()"
   ]
  },
  {
   "cell_type": "code",
   "execution_count": null,
   "metadata": {},
   "outputs": [],
   "source": []
  }
 ],
 "metadata": {
  "kernelspec": {
   "display_name": "Python 3",
   "language": "python",
   "name": "python3"
  },
  "language_info": {
   "codemirror_mode": {
    "name": "ipython",
    "version": 3
   },
   "file_extension": ".py",
   "mimetype": "text/x-python",
   "name": "python",
   "nbconvert_exporter": "python",
   "pygments_lexer": "ipython3",
   "version": "3.6.5"
  }
 },
 "nbformat": 4,
 "nbformat_minor": 2
}
