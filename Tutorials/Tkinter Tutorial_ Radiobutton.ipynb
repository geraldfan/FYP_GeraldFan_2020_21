{
 "cells": [
  {
   "cell_type": "code",
   "execution_count": 9,
   "metadata": {},
   "outputs": [],
   "source": [
    "from tkinter import *\n",
    "\n",
    "from tkinter.ttk import *\n",
    "\n",
    "window = Tk()\n",
    "\n",
    "window.title(\"Welcome to LikeGeeks app\")\n",
    "\n",
    "window.geometry('350x200')\n",
    "\n",
    "selected = IntVar()\n",
    "    \n",
    "rad1 = Radiobutton(window, text = \"First\", value = 1, variable = selected)\n",
    "rad2 = Radiobutton(window, text = \"Second\", value = 2, variable = selected)\n",
    "rad3 = Radiobutton(window, text = \"Third\", value = 3, variable = selected)\n",
    "def clicked():\n",
    "    print(selected.get())\n",
    "btn = Button(window, text = \"Click Me\", command = clicked)\n",
    "rad1.grid(column = 0, row = 0)\n",
    "rad2.grid(column = 1, row = 0)\n",
    "rad3.grid(column = 2, row = 0)\n",
    "btn.grid(column = 3, row = 0)\n",
    "\n",
    "window.mainloop()"
   ]
  },
  {
   "cell_type": "code",
   "execution_count": null,
   "metadata": {},
   "outputs": [],
   "source": []
  }
 ],
 "metadata": {
  "kernelspec": {
   "display_name": "Python 3",
   "language": "python",
   "name": "python3"
  },
  "language_info": {
   "codemirror_mode": {
    "name": "ipython",
    "version": 3
   },
   "file_extension": ".py",
   "mimetype": "text/x-python",
   "name": "python",
   "nbconvert_exporter": "python",
   "pygments_lexer": "ipython3",
   "version": "3.6.5"
  }
 },
 "nbformat": 4,
 "nbformat_minor": 2
}
