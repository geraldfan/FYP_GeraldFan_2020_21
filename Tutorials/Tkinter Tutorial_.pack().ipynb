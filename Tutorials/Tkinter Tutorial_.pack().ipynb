{
 "cells": [
  {
   "cell_type": "code",
   "execution_count": 20,
   "metadata": {},
   "outputs": [],
   "source": [
    "import tkinter as tk\n",
    "\n",
    "window = tk.Tk()\n",
    "\n",
    "# Shows filling of the window horizonally with adaptive resizing\n",
    "# frame1 = tk.Frame(master=window,  height=100, bg=\"red\")\n",
    "# frame1.pack(fill = tk.X) # Fills the window horizontally with adaptive resizing\n",
    "\n",
    "# frame2 = tk.Frame(master=window,  height=50, bg=\"yellow\")\n",
    "# frame2.pack(fill = tk.X)\n",
    "\n",
    "# frame3 = tk.Frame(master=window, height=25, bg=\"blue\")\n",
    "# frame3.pack(fill = tk.X)\n",
    "\n",
    "# # tk.LEFT specifies that the frame is placed on the left side of the window\n",
    "# frame1 = tk.Frame(master=window, width=200, height=100, bg=\"red\")\n",
    "# frame1.pack(fill=tk.Y, side=tk.LEFT)\n",
    "\n",
    "# frame2 = tk.Frame(master=window, width=100, bg=\"yellow\")\n",
    "# frame2.pack(fill=tk.Y, side=tk.LEFT)\n",
    "\n",
    "# frame3 = tk.Frame(master=window, width=50, bg=\"blue\")\n",
    "# frame3.pack(fill=tk.Y, side=tk.LEFT)\n",
    "\n",
    "# # Frames resize both horizontally and vertically\n",
    "# frame1 = tk.Frame(master=window, width=200, height=100, bg=\"red\")\n",
    "# frame1.pack(fill=tk.BOTH, side=tk.LEFT, expand=True)\n",
    "\n",
    "# frame2 = tk.Frame(master=window, width=100, bg=\"yellow\")\n",
    "# frame2.pack(fill=tk.BOTH, side=tk.LEFT, expand=True)\n",
    "\n",
    "# frame3 = tk.Frame(master=window, width=50, bg=\"blue\")\n",
    "# frame3.pack(fill=tk.BOTH, side=tk.LEFT, expand=True)\n",
    "\n",
    "\n",
    "\n",
    "window.mainloop()"
   ]
  },
  {
   "cell_type": "code",
   "execution_count": null,
   "metadata": {},
   "outputs": [],
   "source": []
  },
  {
   "cell_type": "code",
   "execution_count": null,
   "metadata": {},
   "outputs": [],
   "source": []
  }
 ],
 "metadata": {
  "kernelspec": {
   "display_name": "Python 3",
   "language": "python",
   "name": "python3"
  },
  "language_info": {
   "codemirror_mode": {
    "name": "ipython",
    "version": 3
   },
   "file_extension": ".py",
   "mimetype": "text/x-python",
   "name": "python",
   "nbconvert_exporter": "python",
   "pygments_lexer": "ipython3",
   "version": "3.6.5"
  }
 },
 "nbformat": 4,
 "nbformat_minor": 2
}
