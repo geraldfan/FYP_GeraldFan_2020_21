{
 "cells": [
  {
   "cell_type": "code",
   "execution_count": 5,
   "metadata": {},
   "outputs": [],
   "source": [
    "from tkinter import *\n",
    "\n",
    "from tkinter import ttk\n",
    "\n",
    "window = Tk()\n",
    "\n",
    "window.title(\"Welcome to LikeGeeks app\")\n",
    "\n",
    "tab_control = ttk.Notebook(window)\n",
    "tab1 = ttk.Frame(tab_control)\n",
    "tab2 = ttk.Frame(tab_control)\n",
    "tab_control.add(tab1, text = 'First')\n",
    "tab_control.add(tab2, text = 'Second')\n",
    "lbl1 = Label(tab1, text = 'Label1', padx = 5, pady = 5)\n",
    "lbl1.grid(column = 0, row = 0)\n",
    "lbl2 = Label(tab2, text = 'Label2')\n",
    "lbl2.grid(column = 0, row = 2)\n",
    "tab_control.pack(expand = 1, fill = 'both')\n",
    "\n",
    "\n",
    "window.mainloop()"
   ]
  },
  {
   "cell_type": "code",
   "execution_count": null,
   "metadata": {},
   "outputs": [],
   "source": []
  }
 ],
 "metadata": {
  "kernelspec": {
   "display_name": "Python 3",
   "language": "python",
   "name": "python3"
  },
  "language_info": {
   "codemirror_mode": {
    "name": "ipython",
    "version": 3
   },
   "file_extension": ".py",
   "mimetype": "text/x-python",
   "name": "python",
   "nbconvert_exporter": "python",
   "pygments_lexer": "ipython3",
   "version": "3.6.5"
  }
 },
 "nbformat": 4,
 "nbformat_minor": 2
}
