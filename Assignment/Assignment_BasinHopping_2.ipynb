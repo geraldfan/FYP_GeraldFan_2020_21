{
 "cells": [
  {
   "cell_type": "code",
   "execution_count": 1,
   "metadata": {},
   "outputs": [],
   "source": [
    "import numpy             as np\n",
    "import matplotlib.pyplot as plt\n",
    "import pandas            as pd\n",
    "import seaborn           as sns\n",
    "from matplotlib          import rcParams\n",
    "from scipy.integrate     import odeint\n",
    "from scipy.optimize      import basinhopping\n",
    "\n",
    "plt.close('all')\n",
    "sns.set_context('notebook')\n",
    "rcParams['figure.facecolor'] = 'white'\n",
    "rcParams['axes.facecolor']   = 'white'"
   ]
  },
  {
   "cell_type": "code",
   "execution_count": 2,
   "metadata": {},
   "outputs": [],
   "source": [
    "def model(y, t, params):\n",
    "    mRNA = y[0]\n",
    "    prot = y[1]\n",
    "    protm = y[2]\n",
    "    \n",
    "    inducer = params[0]\n",
    "    synm    = params[1]  \n",
    "    k_ind   = params[2] \n",
    "    degm    = params[3] \n",
    "    synp    = params[4]\n",
    "    mu      = params[5]\n",
    "    k_mat   = params[6]\n",
    "    \n",
    "    dmRNA = synm*(inducer)/(inducer+k_ind)-degm*mRNA\n",
    "    dprot = synp*mRNA-k_mat*prot\n",
    "    dprotm = k_mat*prot-mu*protm\n",
    "    \n",
    "    return np.array([dmRNA, dprot,dprotm])"
   ]
  },
  {
   "cell_type": "code",
   "execution_count": 3,
   "metadata": {},
   "outputs": [
    {
     "data": {
      "image/png": "[encoded data removed]",
      "text/plain": [
       "<Figure size 432x288 with 1 Axes>"
      ]
     },
     "metadata": {},
     "output_type": "display_data"
    }
   ],
   "source": [
    "#Part 1: Produce a data set (evidence) and plot it\n",
    "raw_data = pd.read_csv(r\"C:\\Users\\Gerald\\Desktop\\School Stuff\\Sem 7\\FYP\\Resources-master\\Example_Data.csv\")\n",
    "tspan    = raw_data.iloc[:,0]\n",
    "y_data   = raw_data.iloc[:,1:]\n",
    "\n",
    "fig1 = plt.figure()\n",
    "ax1  = fig1.add_subplot(1,1,1)\n",
    "ax1.plot(tspan, y_data,'o')\n",
    "setting = ax1.set(title='Observed data', xlabel='Time (hr)', ylabel='Conc')"
   ]
  },
  {
   "cell_type": "code",
   "execution_count": 4,
   "metadata": {},
   "outputs": [
    {
     "data": {
      "image/png": "[encoded data removed]",
      "text/plain": [
       "<Figure size 432x288 with 1 Axes>"
      ]
     },
     "metadata": {},
     "output_type": "display_data"
    }
   ],
   "source": [
    "# Part 2: Integrate model using a set of parameters\n",
    "\n",
    "y_init  = [0, 2.5e-8,0]\n",
    "values  = {'inducer' : 1,\n",
    "           'synm1'   : 2e-5,  \n",
    "           'k_ind'   : 12, \n",
    "           'degm'    : 0.2,  \n",
    "           'synp'    : 0.01,\n",
    "           'mu'      : 0.015,\n",
    "           'k_mat'   : 0.2\n",
    "          }\n",
    "params     = list(values.values())\n",
    "tspan= [0, 60, 120, 180, 240, 300, 360]\n",
    "model_data = odeint(model, y_init, tspan, args=tuple([params]))\n",
    "y_model    = model_data[:,2]\n",
    "\n",
    "fig2 = plt.figure()\n",
    "ax2  = fig2.add_subplot(1,1,1)\n",
    "ax2.plot(tspan, y_data,'o')\n",
    "ax2.plot(tspan, y_model)\n",
    "setting = ax1.set(title='Observed data', xlabel='Time (hr)', ylabel='Conc')"
   ]
  },
  {
   "cell_type": "code",
   "execution_count": 5,
   "metadata": {},
   "outputs": [
    {
     "name": "stdout",
     "output_type": "stream",
     "text": [
      "1.2482987308847924e-10\n"
     ]
    }
   ],
   "source": [
    "#Part 3: Calculate error\n",
    "\n",
    "SSE = 0\n",
    "for column in y_data:\n",
    "    SSE += np.sum((y_data[column]-y_model)**2)\n",
    "\n",
    "print(SSE)"
   ]
  },
  {
   "cell_type": "code",
   "execution_count": 6,
   "metadata": {},
   "outputs": [],
   "source": [
    "\n",
    "def get_SSE(tspan, y_data, params):\n",
    "    model_data = odeint(model, y_init, tspan, args=tuple([params]))\n",
    "    y_model    = model_data[:,2]\n",
    "    \n",
    "    SSE = 0\n",
    "    for column in y_data:\n",
    "        SSE += np.sum((y_data[column]-y_model)**2)\n",
    "    \n",
    "    return SSE"
   ]
  },
  {
   "cell_type": "code",
   "execution_count": 7,
   "metadata": {},
   "outputs": [
    {
     "name": "stdout",
     "output_type": "stream",
     "text": [
      "1.2482987308847924e-10\n"
     ]
    }
   ],
   "source": [
    "print(get_SSE(tspan, y_data, params))\n"
   ]
  },
  {
   "cell_type": "code",
   "execution_count": 8,
   "metadata": {},
   "outputs": [],
   "source": [
    "def objective_function_wrapper(tspan, y_data, inducer):\n",
    "    def helper(params):\n",
    "        #Inducer concentration is fixed at 1.\n",
    "        params_ = [1] + list(params)\n",
    "        return get_SSE(tspan, y_data, params)\n",
    "    return helper\n"
   ]
  },
  {
   "cell_type": "code",
   "execution_count": 9,
   "metadata": {},
   "outputs": [
    {
     "name": "stdout",
     "output_type": "stream",
     "text": [
      "basinhopping step 0: f 2.82631e-12\n",
      "basinhopping step 1: f 1.25802e-10 trial_f 1.25802e-10 accepted 1  lowest_f 2.82631e-12\n",
      "basinhopping step 2: f 1.62509e-11 trial_f 1.62509e-11 accepted 1  lowest_f 2.82631e-12\n",
      "basinhopping step 3: f 3.10542e-11 trial_f 3.10542e-11 accepted 1  lowest_f 2.82631e-12\n",
      "basinhopping step 4: f 3.37303e-11 trial_f 3.37303e-11 accepted 1  lowest_f 2.82631e-12\n",
      "basinhopping step 5: f 3.08065e-11 trial_f 3.08065e-11 accepted 1  lowest_f 2.82631e-12\n",
      "basinhopping step 6: f 3.08398e-11 trial_f 3.08398e-11 accepted 1  lowest_f 2.82631e-12\n",
      "basinhopping step 7: f 7.65533e-11 trial_f 7.65533e-11 accepted 1  lowest_f 2.82631e-12\n",
      "basinhopping step 8: f 3.26091e-11 trial_f 3.26091e-11 accepted 1  lowest_f 2.82631e-12\n",
      "basinhopping step 9: f 6.67802e-10 trial_f 6.67802e-10 accepted 1  lowest_f 2.82631e-12\n",
      "basinhopping step 10: f 1.32483e-08 trial_f 1.32483e-08 accepted 1  lowest_f 2.82631e-12\n",
      "basinhopping step 11: f 4.28547e-10 trial_f 4.28547e-10 accepted 1  lowest_f 2.82631e-12\n",
      "basinhopping step 12: f 8.56494e-11 trial_f 8.56494e-11 accepted 1  lowest_f 2.82631e-12\n",
      "basinhopping step 13: f 3.1375e-11 trial_f 3.1375e-11 accepted 1  lowest_f 2.82631e-12\n",
      "basinhopping step 14: f 1.98436e-10 trial_f 1.98436e-10 accepted 1  lowest_f 2.82631e-12\n",
      "basinhopping step 15: f 7.23547e-09 trial_f 7.23547e-09 accepted 1  lowest_f 2.82631e-12\n",
      "basinhopping step 16: f 3.28684e-11 trial_f 3.28684e-11 accepted 1  lowest_f 2.82631e-12\n",
      "basinhopping step 17: f 5.89995e-11 trial_f 5.89995e-11 accepted 1  lowest_f 2.82631e-12\n",
      "basinhopping step 18: f 2.3657e-09 trial_f 2.3657e-09 accepted 1  lowest_f 2.82631e-12\n",
      "basinhopping step 19: f 3.3294e-11 trial_f 3.3294e-11 accepted 1  lowest_f 2.82631e-12\n",
      "basinhopping step 20: f 4.70965e-11 trial_f 4.70965e-11 accepted 1  lowest_f 2.82631e-12\n",
      "basinhopping step 21: f 3.13978e-11 trial_f 3.13978e-11 accepted 1  lowest_f 2.82631e-12\n",
      "basinhopping step 22: f 2.46472e-09 trial_f 2.46472e-09 accepted 1  lowest_f 2.82631e-12\n",
      "basinhopping step 23: f 2.7856e-07 trial_f 2.7856e-07 accepted 1  lowest_f 2.82631e-12\n",
      "basinhopping step 24: f 3.24601e-11 trial_f 3.24601e-11 accepted 1  lowest_f 2.82631e-12\n",
      "basinhopping step 25: f 3.7283e-10 trial_f 3.7283e-10 accepted 1  lowest_f 2.82631e-12\n",
      "basinhopping step 26: f 1.25702e-09 trial_f 1.25702e-09 accepted 1  lowest_f 2.82631e-12\n",
      "basinhopping step 27: f 3.96548e-11 trial_f 3.96548e-11 accepted 1  lowest_f 2.82631e-12\n",
      "basinhopping step 28: f 8.18768e-09 trial_f 8.18768e-09 accepted 1  lowest_f 2.82631e-12\n",
      "basinhopping step 29: f 8.93006e-11 trial_f 8.93006e-11 accepted 1  lowest_f 2.82631e-12\n",
      "basinhopping step 30: f 1.19781e-10 trial_f 1.19781e-10 accepted 1  lowest_f 2.82631e-12\n",
      "basinhopping step 31: f 7.97461e-11 trial_f 7.97461e-11 accepted 1  lowest_f 2.82631e-12\n",
      "basinhopping step 32: f 3.08041e-11 trial_f 3.08041e-11 accepted 1  lowest_f 2.82631e-12\n",
      "basinhopping step 33: f 1.21129e-08 trial_f 1.21129e-08 accepted 1  lowest_f 2.82631e-12\n",
      "basinhopping step 34: f 1.13939e-08 trial_f 1.13939e-08 accepted 1  lowest_f 2.82631e-12\n",
      "basinhopping step 35: f 4.38341e-11 trial_f 4.38341e-11 accepted 1  lowest_f 2.82631e-12\n",
      "basinhopping step 36: f 3.09691e-11 trial_f 3.09691e-11 accepted 1  lowest_f 2.82631e-12\n",
      "basinhopping step 37: f 3.24635e-11 trial_f 3.24635e-11 accepted 1  lowest_f 2.82631e-12\n",
      "basinhopping step 38: f 5.3785e-11 trial_f 5.3785e-11 accepted 1  lowest_f 2.82631e-12\n",
      "basinhopping step 39: f 3.7846e-09 trial_f 3.7846e-09 accepted 1  lowest_f 2.82631e-12\n",
      "basinhopping step 40: f 3.86865e-11 trial_f 3.86865e-11 accepted 1  lowest_f 2.82631e-12\n",
      "basinhopping step 41: f 3.60525e-11 trial_f 3.60525e-11 accepted 1  lowest_f 2.82631e-12\n",
      "basinhopping step 42: f 1.82699e-09 trial_f 1.82699e-09 accepted 1  lowest_f 2.82631e-12\n",
      "basinhopping step 43: f 3.39875e-11 trial_f 3.39875e-11 accepted 1  lowest_f 2.82631e-12\n",
      "basinhopping step 44: f 4.53741e-11 trial_f 4.53741e-11 accepted 1  lowest_f 2.82631e-12\n",
      "basinhopping step 45: f 6.51535e-11 trial_f 6.51535e-11 accepted 1  lowest_f 2.82631e-12\n",
      "basinhopping step 46: f 2.4911e-11 trial_f 2.4911e-11 accepted 1  lowest_f 2.82631e-12\n",
      "basinhopping step 47: f 3.35566e-10 trial_f 3.35566e-10 accepted 1  lowest_f 2.82631e-12\n",
      "basinhopping step 48: f 5.72338e-09 trial_f 5.72338e-09 accepted 1  lowest_f 2.82631e-12\n",
      "basinhopping step 49: f 6.59818e-11 trial_f 6.59818e-11 accepted 1  lowest_f 2.82631e-12\n",
      "adaptive stepsize: acceptance rate 0.980000 target 0.500000 new stepsize 0.555556 old stepsize 0.5\n",
      "basinhopping step 50: f 2.33588e-08 trial_f 2.33588e-08 accepted 1  lowest_f 2.82631e-12\n",
      "basinhopping step 51: f 3.0387e-08 trial_f 3.0387e-08 accepted 1  lowest_f 2.82631e-12\n",
      "basinhopping step 52: f 4.05408e-07 trial_f 4.05408e-07 accepted 1  lowest_f 2.82631e-12\n",
      "basinhopping step 53: f 7.02357e-09 trial_f 7.02357e-09 accepted 1  lowest_f 2.82631e-12\n",
      "basinhopping step 54: f 3.04077e-07 trial_f 3.04077e-07 accepted 1  lowest_f 2.82631e-12\n",
      "basinhopping step 55: f 2.67441e-07 trial_f 2.67441e-07 accepted 1  lowest_f 2.82631e-12\n",
      "basinhopping step 56: f 3.16647e-07 trial_f 3.16647e-07 accepted 1  lowest_f 2.82631e-12\n",
      "basinhopping step 57: f 7.9359e-09 trial_f 7.9359e-09 accepted 1  lowest_f 2.82631e-12\n",
      "basinhopping step 58: f 2.2245e-07 trial_f 2.2245e-07 accepted 1  lowest_f 2.82631e-12\n",
      "basinhopping step 59: f 2.80077e-08 trial_f 2.80077e-08 accepted 1  lowest_f 2.82631e-12\n",
      "basinhopping step 60: f 6.65213e-09 trial_f 6.65213e-09 accepted 1  lowest_f 2.82631e-12\n",
      "basinhopping step 61: f 6.71964e-10 trial_f 6.71964e-10 accepted 1  lowest_f 2.82631e-12\n",
      "basinhopping step 62: f 7.34359e-09 trial_f 7.34359e-09 accepted 1  lowest_f 2.82631e-12\n",
      "basinhopping step 63: f 1.72373e-10 trial_f 1.72373e-10 accepted 1  lowest_f 2.82631e-12\n",
      "basinhopping step 64: f 1.31103e-07 trial_f 1.31103e-07 accepted 1  lowest_f 2.82631e-12\n",
      "basinhopping step 65: f 1.7123e-08 trial_f 1.7123e-08 accepted 1  lowest_f 2.82631e-12\n",
      "basinhopping step 66: f 3.7455e-07 trial_f 3.7455e-07 accepted 1  lowest_f 2.82631e-12\n",
      "basinhopping step 67: f 4.90502e-09 trial_f 4.90502e-09 accepted 1  lowest_f 2.82631e-12\n",
      "basinhopping step 68: f 4.45666e-10 trial_f 4.45666e-10 accepted 1  lowest_f 2.82631e-12\n",
      "basinhopping step 69: f 1.26228e-08 trial_f 1.26228e-08 accepted 1  lowest_f 2.82631e-12\n",
      "basinhopping step 70: f 1.7107e-07 trial_f 1.7107e-07 accepted 1  lowest_f 2.82631e-12\n",
      "basinhopping step 71: f 6.9109e-11 trial_f 6.9109e-11 accepted 1  lowest_f 2.82631e-12\n",
      "basinhopping step 72: f 5.34651e-09 trial_f 5.34651e-09 accepted 1  lowest_f 2.82631e-12\n",
      "basinhopping step 73: f 2.51059e-07 trial_f 2.51059e-07 accepted 1  lowest_f 2.82631e-12\n",
      "basinhopping step 74: f 1.8726e-07 trial_f 1.8726e-07 accepted 1  lowest_f 2.82631e-12\n",
      "basinhopping step 75: f 9.07459e-09 trial_f 9.07459e-09 accepted 1  lowest_f 2.82631e-12\n",
      "basinhopping step 76: f 9.30155e-10 trial_f 9.30155e-10 accepted 1  lowest_f 2.82631e-12\n",
      "basinhopping step 77: f 1.15963e-08 trial_f 1.15963e-08 accepted 1  lowest_f 2.82631e-12\n",
      "basinhopping step 78: f 5.57104e-09 trial_f 5.57104e-09 accepted 1  lowest_f 2.82631e-12\n",
      "basinhopping step 79: f 7.80854e-10 trial_f 7.80854e-10 accepted 1  lowest_f 2.82631e-12\n",
      "basinhopping step 80: f 3.08952e-11 trial_f 3.08952e-11 accepted 1  lowest_f 2.82631e-12\n",
      "basinhopping step 81: f 3.11524e-11 trial_f 3.11524e-11 accepted 1  lowest_f 2.82631e-12\n",
      "basinhopping step 82: f 1.09824e-07 trial_f 1.09824e-07 accepted 1  lowest_f 2.82631e-12\n",
      "basinhopping step 83: f 5.77191e-11 trial_f 5.77191e-11 accepted 1  lowest_f 2.82631e-12\n",
      "basinhopping step 84: f 1.75845e-08 trial_f 1.75845e-08 accepted 1  lowest_f 2.82631e-12\n",
      "basinhopping step 85: f 3.21826e-11 trial_f 3.21826e-11 accepted 1  lowest_f 2.82631e-12\n",
      "basinhopping step 86: f 4.57411e-11 trial_f 4.57411e-11 accepted 1  lowest_f 2.82631e-12\n",
      "basinhopping step 87: f 2.38108e-09 trial_f 2.38108e-09 accepted 1  lowest_f 2.82631e-12\n",
      "basinhopping step 88: f 2.50073e-09 trial_f 2.50073e-09 accepted 1  lowest_f 2.82631e-12\n",
      "basinhopping step 89: f 7.35962e-08 trial_f 7.35962e-08 accepted 1  lowest_f 2.82631e-12\n",
      "basinhopping step 90: f 5.15249e-08 trial_f 5.15249e-08 accepted 1  lowest_f 2.82631e-12\n",
      "basinhopping step 91: f 8.02238e-09 trial_f 8.02238e-09 accepted 1  lowest_f 2.82631e-12\n",
      "basinhopping step 92: f 1.53964e-10 trial_f 1.53964e-10 accepted 1  lowest_f 2.82631e-12\n"
     ]
    },
    {
     "name": "stdout",
     "output_type": "stream",
     "text": [
      "basinhopping step 93: f 5.4563e-09 trial_f 5.4563e-09 accepted 1  lowest_f 2.82631e-12\n",
      "basinhopping step 94: f 1.90982e-08 trial_f 1.90982e-08 accepted 1  lowest_f 2.82631e-12\n",
      "basinhopping step 95: f 4.00248e-10 trial_f 4.00248e-10 accepted 1  lowest_f 2.82631e-12\n",
      "basinhopping step 96: f 5.42841e-09 trial_f 5.42841e-09 accepted 1  lowest_f 2.82631e-12\n",
      "basinhopping step 97: f 2.5228e-09 trial_f 2.5228e-09 accepted 1  lowest_f 2.82631e-12\n",
      "basinhopping step 98: f 5.11745e-09 trial_f 5.11745e-09 accepted 1  lowest_f 2.82631e-12\n",
      "basinhopping step 99: f 5.85523e-10 trial_f 5.85523e-10 accepted 1  lowest_f 2.82631e-12\n",
      "adaptive stepsize: acceptance rate 0.990000 target 0.500000 new stepsize 0.617284 old stepsize 0.555556\n",
      "basinhopping step 100: f 3.36087e-09 trial_f 3.36087e-09 accepted 1  lowest_f 2.82631e-12\n",
      "                        fun: 2.826310719560258e-12\n",
      " lowest_optimization_result:       fun: 2.826310719560258e-12\n",
      " hess_inv: array([[ 9.99999999e-01, -2.25690673e-05,  8.17079259e-11,\n",
      "         4.59872941e-09, -9.30227452e-08,  5.30694810e-08,\n",
      "        -5.22138637e-11],\n",
      "       [-2.25690673e-05,  5.37375945e-01,  2.12639625e-06,\n",
      "         1.18919138e-04, -2.40565617e-03,  1.37515174e-03,\n",
      "        -1.30296875e-06],\n",
      "       [ 8.17079259e-11,  2.12639625e-06,  1.00000000e+00,\n",
      "        -4.31247650e-10,  8.72167188e-09, -4.96475247e-09,\n",
      "         4.76266267e-12],\n",
      "       [ 4.59872941e-09,  1.18919138e-04, -4.31247650e-10,\n",
      "         9.99999976e-01,  4.89846016e-07, -2.79664219e-07,\n",
      "         2.77642799e-10],\n",
      "       [-9.30227452e-08, -2.40565617e-03,  8.72167188e-09,\n",
      "         4.89846016e-07,  9.99990091e-01,  5.65690709e-06,\n",
      "        -5.61095729e-09],\n",
      "       [ 5.30694810e-08,  1.37515174e-03, -4.96475247e-09,\n",
      "        -2.79664219e-07,  5.65690709e-06,  9.99996774e-01,\n",
      "         3.16613423e-09],\n",
      "       [-5.22138637e-11, -1.30296875e-06,  4.76266267e-12,\n",
      "         2.77642799e-10, -5.61095729e-09,  3.16613423e-09,\n",
      "         1.00000000e+00]])\n",
      "      jac: array([ 5.03203929e-12,  2.57453564e-07, -4.10595115e-13, -2.83956083e-11,\n",
      "        5.26032553e-10, -4.52512989e-10, -1.71338844e-12])\n",
      "  message: 'Optimization terminated successfully.'\n",
      "     nfev: 36\n",
      "      nit: 3\n",
      "     njev: 4\n",
      "   status: 0\n",
      "  success: True\n",
      "        x: array([1.00000000e+00, 3.15861265e-05, 1.20000000e+01, 1.99999999e-01,\n",
      "       1.00000117e-02, 1.49999929e-02, 2.00000000e-01])\n",
      "                    message: ['requested number of basinhopping iterations completed successfully']\n",
      "      minimization_failures: 0\n",
      "                       nfev: 7371\n",
      "                        nit: 100\n",
      "                       njev: 819\n",
      "                          x: array([1.00000000e+00, 3.15861265e-05, 1.20000000e+01, 1.99999999e-01,\n",
      "       1.00000117e-02, 1.49999929e-02, 2.00000000e-01])\n",
      "[1.00000000e+00 3.15861265e-05 1.20000000e+01 1.99999999e-01\n",
      " 1.00000117e-02 1.49999929e-02 2.00000000e-01]\n"
     ]
    }
   ],
   "source": [
    "#Wrap get_SSE\n",
    "objective_function = objective_function_wrapper(tspan, y_data, params[0])\n",
    "#This function now takes in the params as the sole argument and returns the SSE.\n",
    "\n",
    "#Run optimizer.\n",
    "x0     = list(params)[1:] #Remember not to include the inducer!\n",
    "result = basinhopping(objective_function, x0=params, niter=100, disp=True)\n",
    "best_value  = result.fun\n",
    "best_params = result.x\n",
    "print(result)\n",
    "print(best_params)"
   ]
  },
  {
   "cell_type": "code",
   "execution_count": 10,
   "metadata": {},
   "outputs": [
    {
     "data": {
      "image/png": "[encoded data removed]",
      "text/plain": [
       "<Figure size 432x288 with 1 Axes>"
      ]
     },
     "metadata": {},
     "output_type": "display_data"
    }
   ],
   "source": [
    "model_data = odeint(model, y_init, tspan, args=tuple([best_params]))\n",
    "y_model    = model_data[:,2]\n",
    "\n",
    "fig3 = plt.figure()\n",
    "ax3  = fig3.add_subplot(1,1,1)\n",
    "ax3.plot(tspan, y_data,'o')\n",
    "ax3.plot(tspan, y_model)\n",
    "setting = ax1.set(title='Observed data', xlabel='Time (hr)', ylabel='Conc')"
   ]
  },
  {
   "cell_type": "code",
   "execution_count": null,
   "metadata": {},
   "outputs": [],
   "source": []
  }
 ],
 "metadata": {
  "kernelspec": {
   "display_name": "Python 3",
   "language": "python",
   "name": "python3"
  },
  "language_info": {
   "codemirror_mode": {
    "name": "ipython",
    "version": 3
   },
   "file_extension": ".py",
   "mimetype": "text/x-python",
   "name": "python",
   "nbconvert_exporter": "python",
   "pygments_lexer": "ipython3",
   "version": "3.6.5"
  }
 },
 "nbformat": 4,
 "nbformat_minor": 2
}
