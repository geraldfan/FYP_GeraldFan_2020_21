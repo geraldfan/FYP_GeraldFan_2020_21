{
 "cells": [
  {
   "cell_type": "code",
   "execution_count": 1,
   "metadata": {},
   "outputs": [],
   "source": [
    "import numpy             as np\n",
    "import matplotlib.pyplot as plt\n",
    "import pandas            as pd\n",
    "import seaborn           as sns\n",
    "from matplotlib          import rcParams\n",
    "from scipy.integrate     import odeint\n",
    "from scipy.optimize      import dual_annealing\n",
    "\n",
    "plt.close('all')\n",
    "sns.set_context('notebook')\n",
    "rcParams['figure.facecolor'] = 'white'\n",
    "rcParams['axes.facecolor']   = 'white'"
   ]
  },
  {
   "cell_type": "code",
   "execution_count": 2,
   "metadata": {},
   "outputs": [],
   "source": [
    "def model(y, t, params):\n",
    "    mRNA = y[0]\n",
    "    prot = y[1]\n",
    "    \n",
    "    inducer = params[0]\n",
    "    synm    = params[1]  \n",
    "    k_ind   = params[2] \n",
    "    degm    = params[3] \n",
    "    synp    = params[4]\n",
    "    mu      = params[5]\n",
    "    \n",
    "    dmRNA = 0\n",
    "    dprot = synp*(inducer)/(inducer+k_ind)-mu*prot\n",
    "    \n",
    "    return np.array([dmRNA, dprot])"
   ]
  },
  {
   "cell_type": "code",
   "execution_count": 3,
   "metadata": {},
   "outputs": [
    {
     "data": {
      "image/png": "[encoded data removed]",
      "text/plain": [
       "<Figure size 432x288 with 1 Axes>"
      ]
     },
     "metadata": {},
     "output_type": "display_data"
    }
   ],
   "source": [
    "#Part 1: Produce a data set (evidence) and plot it\n",
    "raw_data = pd.read_csv(r\"C:\\Users\\Gerald\\Desktop\\School Stuff\\Sem 7\\FYP\\Resources-master\\Example_Data.csv\")\n",
    "tspan    = raw_data.iloc[:,0]\n",
    "y_data   = raw_data.iloc[:,1:]\n",
    "\n",
    "fig1 = plt.figure()\n",
    "ax1  = fig1.add_subplot(1,1,1)\n",
    "ax1.plot(tspan, y_data,'o')\n",
    "setting = ax1.set(title='Observed data', xlabel='Time (hr)', ylabel='Conc')"
   ]
  },
  {
   "cell_type": "code",
   "execution_count": 4,
   "metadata": {},
   "outputs": [
    {
     "data": {
      "image/png": "[encoded data removed]",
      "text/plain": [
       "<Figure size 432x288 with 1 Axes>"
      ]
     },
     "metadata": {},
     "output_type": "display_data"
    }
   ],
   "source": [
    "# Part 2: Integrate model using a set of parameters\n",
    "\n",
    "y_init  = [0, 2.5e-8]\n",
    "values  = {'inducer' : 1,\n",
    "           'synm1'   : 2e-5,  \n",
    "           'k_ind'   : 12, \n",
    "           'degm'    : 0.2,  \n",
    "           'synp'    : 0.01e-4, #Value changed for model fitting\n",
    "           'mu'      : 0.015\n",
    "          }\n",
    "params     = list(values.values())\n",
    "tspan= [0, 60, 120, 180, 240, 300, 360]\n",
    "model_data = odeint(model, y_init, tspan, args=tuple([params]))\n",
    "y_model    = model_data[:,1]\n",
    "\n",
    "fig2 = plt.figure()\n",
    "ax2  = fig2.add_subplot(1,1,1)\n",
    "ax2.plot(tspan, y_data,'o')\n",
    "ax2.plot(tspan, y_model)\n",
    "setting = ax1.set(title='Observed data', xlabel='Time (hr)', ylabel='Conc')"
   ]
  },
  {
   "cell_type": "code",
   "execution_count": 5,
   "metadata": {},
   "outputs": [
    {
     "name": "stdout",
     "output_type": "stream",
     "text": [
      "1.1758672600745508e-10\n"
     ]
    }
   ],
   "source": [
    "\n",
    "#Part 3: Calculate error\n",
    "\n",
    "SSE = 0\n",
    "for column in y_data:\n",
    "    SSE += np.sum((y_data[column]-y_model)**2)\n",
    "\n",
    "print(SSE)"
   ]
  },
  {
   "cell_type": "code",
   "execution_count": 6,
   "metadata": {},
   "outputs": [],
   "source": [
    "def get_SSE(tspan, y_data, params):\n",
    "    model_data = odeint(model, y_init, tspan, args=tuple([params]))\n",
    "    y_model    = model_data[:,1]\n",
    "    \n",
    "    SSE = 0\n",
    "    for column in y_data:\n",
    "        SSE += np.sum((y_data[column]-y_model)**2)\n",
    "    \n",
    "    return SSE"
   ]
  },
  {
   "cell_type": "code",
   "execution_count": 7,
   "metadata": {},
   "outputs": [
    {
     "name": "stdout",
     "output_type": "stream",
     "text": [
      "1.1758672600745508e-10\n"
     ]
    }
   ],
   "source": [
    "print(get_SSE(tspan, y_data, params))\n"
   ]
  },
  {
   "cell_type": "code",
   "execution_count": 8,
   "metadata": {},
   "outputs": [],
   "source": [
    "def objective_function_wrapper(tspan, y_data, inducer):\n",
    "    def helper(params):\n",
    "        #Inducer concentration is fixed at 1.\n",
    "        params_ = [1] + list(params)\n",
    "        return get_SSE(tspan, y_data, params)\n",
    "    return helper"
   ]
  },
  {
   "cell_type": "code",
   "execution_count": 9,
   "metadata": {},
   "outputs": [
    {
     "name": "stdout",
     "output_type": "stream",
     "text": [
      "     fun: 4.21597362614077e-12\n",
      " message: ['Maximum number of iteration reached']\n",
      "    nfev: 1316267\n",
      "    nhev: 0\n",
      "     nit: 100000\n",
      "    njev: 16598\n",
      "  status: 0\n",
      " success: True\n",
      "       x: array([6.43171837e-03, 3.02029155e-01, 1.22310895e+01, 8.56172992e-01,\n",
      "       2.53646686e-04, 1.71647665e-02])\n"
     ]
    }
   ],
   "source": [
    "#Wrap get_SSE\n",
    "objective_function = objective_function_wrapper(tspan, y_data, params[0])\n",
    "#This function now takes in the params as the sole argument and returns the SSE.\n",
    "\n",
    "#Run optimizer.\n",
    "x0     = list(params)[1:] #Remember not to include the inducer!\n",
    "lw = [0,0,1,0,0,0]\n",
    "up = [1,1,15,1,1,1]\n",
    "result = dual_annealing(objective_function, bounds = list(zip(lw,up)), maxiter = 100000)\n",
    "best_value  = result.fun\n",
    "best_params = result.x\n",
    "print(result)"
   ]
  },
  {
   "cell_type": "code",
   "execution_count": 10,
   "metadata": {},
   "outputs": [
    {
     "data": {
      "image/png": "[encoded data removed]",
      "text/plain": [
       "<Figure size 432x288 with 1 Axes>"
      ]
     },
     "metadata": {},
     "output_type": "display_data"
    }
   ],
   "source": [
    "model_data = odeint(model, y_init, tspan, args=tuple([best_params]))\n",
    "y_model    = model_data[:,1]\n",
    "\n",
    "fig3 = plt.figure()\n",
    "ax3  = fig3.add_subplot(1,1,1)\n",
    "ax3.plot(tspan, y_data,'o')\n",
    "ax3.plot(tspan, y_model)\n",
    "setting = ax1.set(title='Observed data', xlabel='Time (hr)', ylabel='Conc')"
   ]
  },
  {
   "cell_type": "code",
   "execution_count": null,
   "metadata": {},
   "outputs": [],
   "source": []
  }
 ],
 "metadata": {
  "kernelspec": {
   "display_name": "Python 3",
   "language": "python",
   "name": "python3"
  },
  "language_info": {
   "codemirror_mode": {
    "name": "ipython",
    "version": 3
   },
   "file_extension": ".py",
   "mimetype": "text/x-python",
   "name": "python",
   "nbconvert_exporter": "python",
   "pygments_lexer": "ipython3",
   "version": "3.6.5"
  }
 },
 "nbformat": 4,
 "nbformat_minor": 2
}
