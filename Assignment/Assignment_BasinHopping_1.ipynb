{
 "cells": [
  {
   "cell_type": "code",
   "execution_count": 1,
   "metadata": {},
   "outputs": [],
   "source": [
    "import numpy             as np\n",
    "import matplotlib.pyplot as plt\n",
    "import pandas            as pd\n",
    "import seaborn           as sns\n",
    "from matplotlib          import rcParams\n",
    "from scipy.integrate     import odeint\n",
    "from scipy.optimize      import basinhopping\n",
    "\n",
    "plt.close('all')\n",
    "sns.set_context('notebook')\n",
    "rcParams['figure.facecolor'] = 'white'\n",
    "rcParams['axes.facecolor']   = 'white'"
   ]
  },
  {
   "cell_type": "code",
   "execution_count": 2,
   "metadata": {},
   "outputs": [],
   "source": [
    "def model(y, t, params):\n",
    "    mRNA = y[0]\n",
    "    prot = y[1]\n",
    "    \n",
    "    inducer = params[0]\n",
    "    synm    = params[1]  \n",
    "    k_ind   = params[2] \n",
    "    degm    = params[3] \n",
    "    synp    = params[4]\n",
    "    mu      = params[5]\n",
    "    \n",
    "    dmRNA = 0\n",
    "    dprot = synp*(inducer)/(inducer+k_ind)-mu*prot\n",
    "    \n",
    "    return np.array([dmRNA, dprot])"
   ]
  },
  {
   "cell_type": "code",
   "execution_count": 3,
   "metadata": {},
   "outputs": [
    {
     "data": {
      "image/png": "[encoded data removed]",
      "text/plain": [
       "<Figure size 432x288 with 1 Axes>"
      ]
     },
     "metadata": {},
     "output_type": "display_data"
    }
   ],
   "source": [
    "#Part 1: Produce a data set (evidence) and plot it\n",
    "raw_data = pd.read_csv(r\"C:\\Users\\Gerald\\Desktop\\School Stuff\\Sem 7\\FYP\\Resources-master\\Example_Data.csv\")\n",
    "tspan    = raw_data.iloc[:,0]\n",
    "y_data   = raw_data.iloc[:,1:]\n",
    "\n",
    "fig1 = plt.figure()\n",
    "ax1  = fig1.add_subplot(1,1,1)\n",
    "ax1.plot(tspan, y_data,'o')\n",
    "setting = ax1.set(title='Observed data', xlabel='Time (hr)', ylabel='Conc')"
   ]
  },
  {
   "cell_type": "code",
   "execution_count": 4,
   "metadata": {},
   "outputs": [
    {
     "data": {
      "image/png": "[encoded data removed]",
      "text/plain": [
       "<Figure size 432x288 with 1 Axes>"
      ]
     },
     "metadata": {},
     "output_type": "display_data"
    }
   ],
   "source": [
    "# Part 2: Integrate model using a set of parameters\n",
    "\n",
    "y_init  = [0, 2.5e-8]\n",
    "values  = {'inducer' : 1,\n",
    "           'synm1'   : 2e-5,  \n",
    "           'k_ind'   : 12, \n",
    "           'degm'    : 0.2,  \n",
    "           'synp'    : 0.01e-4, #Value changed for model fitting\n",
    "           'mu'      : 0.015\n",
    "          }\n",
    "params     = list(values.values())\n",
    "tspan= [0, 60, 120, 180, 240, 300, 360]\n",
    "model_data = odeint(model, y_init, tspan, args=tuple([params]))\n",
    "y_model    = model_data[:,1]\n",
    "\n",
    "fig2 = plt.figure()\n",
    "ax2  = fig2.add_subplot(1,1,1)\n",
    "ax2.plot(tspan, y_data,'o')\n",
    "ax2.plot(tspan, y_model)\n",
    "setting = ax1.set(title='Observed data', xlabel='Time (hr)', ylabel='Conc')"
   ]
  },
  {
   "cell_type": "code",
   "execution_count": 5,
   "metadata": {},
   "outputs": [
    {
     "name": "stdout",
     "output_type": "stream",
     "text": [
      "1.1758672600745506e-10\n"
     ]
    }
   ],
   "source": [
    "\n",
    "#Part 3: Calculate error\n",
    "\n",
    "SSE = 0\n",
    "for column in y_data:\n",
    "    SSE += np.sum((y_data[column]-y_model)**2)\n",
    "\n",
    "print(SSE)"
   ]
  },
  {
   "cell_type": "code",
   "execution_count": 6,
   "metadata": {},
   "outputs": [],
   "source": [
    "def get_SSE(tspan, y_data, params):\n",
    "    model_data = odeint(model, y_init, tspan, args=tuple([params]))\n",
    "    y_model    = model_data[:,1]\n",
    "    \n",
    "    SSE = 0\n",
    "    for column in y_data:\n",
    "        SSE += np.sum((y_data[column]-y_model)**2)\n",
    "    \n",
    "    return SSE"
   ]
  },
  {
   "cell_type": "code",
   "execution_count": 7,
   "metadata": {},
   "outputs": [
    {
     "name": "stdout",
     "output_type": "stream",
     "text": [
      "1.1758672600745506e-10\n"
     ]
    }
   ],
   "source": [
    "print(get_SSE(tspan, y_data, params))\n"
   ]
  },
  {
   "cell_type": "code",
   "execution_count": 8,
   "metadata": {},
   "outputs": [],
   "source": [
    "def objective_function_wrapper(tspan, y_data, inducer):\n",
    "    def helper(params):\n",
    "        #Inducer concentration is fixed at 1.\n",
    "        params_ = [1] + list(params)\n",
    "        return get_SSE(tspan, y_data, params)\n",
    "    return helper"
   ]
  },
  {
   "cell_type": "code",
   "execution_count": 9,
   "metadata": {},
   "outputs": [
    {
     "name": "stdout",
     "output_type": "stream",
     "text": [
      "basinhopping step 0: f 3.00662e-12\n",
      "basinhopping step 1: f 3.18354e-11 trial_f 3.18354e-11 accepted 1  lowest_f 3.00662e-12\n",
      "basinhopping step 2: f 3.20472e-11 trial_f 3.20472e-11 accepted 1  lowest_f 3.00662e-12\n",
      "basinhopping step 3: f 3.08026e-11 trial_f 3.08026e-11 accepted 1  lowest_f 3.00662e-12\n",
      "basinhopping step 4: f 1.26416e-07 trial_f 1.26416e-07 accepted 1  lowest_f 3.00662e-12\n",
      "basinhopping step 5: f 3.26322e-10 trial_f 3.26322e-10 accepted 1  lowest_f 3.00662e-12\n",
      "basinhopping step 6: f 4.68053e-10 trial_f 4.68053e-10 accepted 1  lowest_f 3.00662e-12\n",
      "basinhopping step 7: f 7.3605e-11 trial_f 7.3605e-11 accepted 1  lowest_f 3.00662e-12\n",
      "basinhopping step 8: f 1.78125e-10 trial_f 1.78125e-10 accepted 1  lowest_f 3.00662e-12\n",
      "basinhopping step 9: f 3.30291e-11 trial_f 3.30291e-11 accepted 1  lowest_f 3.00662e-12\n",
      "basinhopping step 10: f 2.46651e-10 trial_f 2.46651e-10 accepted 1  lowest_f 3.00662e-12\n",
      "basinhopping step 11: f 1.15177e-10 trial_f 1.15177e-10 accepted 1  lowest_f 3.00662e-12\n",
      "basinhopping step 12: f 3.10945e-11 trial_f 3.10945e-11 accepted 1  lowest_f 3.00662e-12\n",
      "basinhopping step 13: f 3.08053e-11 trial_f 3.08053e-11 accepted 1  lowest_f 3.00662e-12\n",
      "basinhopping step 14: f 3.93352e-11 trial_f 3.93352e-11 accepted 1  lowest_f 3.00662e-12\n",
      "basinhopping step 15: f 4.15397e-11 trial_f 4.15397e-11 accepted 1  lowest_f 3.00662e-12\n",
      "basinhopping step 16: f 1.28099e-09 trial_f 1.28099e-09 accepted 1  lowest_f 3.00662e-12\n",
      "basinhopping step 17: f 2.4291e-09 trial_f 2.4291e-09 accepted 1  lowest_f 3.00662e-12\n",
      "basinhopping step 18: f 6.56001e-08 trial_f 6.56001e-08 accepted 1  lowest_f 3.00662e-12\n",
      "basinhopping step 19: f 3.71302e-11 trial_f 3.71302e-11 accepted 1  lowest_f 3.00662e-12\n",
      "basinhopping step 20: f 3.37937e-11 trial_f 3.37937e-11 accepted 1  lowest_f 3.00662e-12\n",
      "basinhopping step 21: f 4.6989e-11 trial_f 4.6989e-11 accepted 1  lowest_f 3.00662e-12\n",
      "basinhopping step 22: f 5.90961e-11 trial_f 5.90961e-11 accepted 1  lowest_f 3.00662e-12\n",
      "basinhopping step 23: f 2.78559e-09 trial_f 2.78559e-09 accepted 1  lowest_f 3.00662e-12\n",
      "basinhopping step 24: f 2.17853e-10 trial_f 2.17853e-10 accepted 1  lowest_f 3.00662e-12\n",
      "basinhopping step 25: f 1.36606e-08 trial_f 1.36606e-08 accepted 1  lowest_f 3.00662e-12\n",
      "basinhopping step 26: f 3.44049e-11 trial_f 3.44049e-11 accepted 1  lowest_f 3.00662e-12\n",
      "basinhopping step 27: f 1.02323e-08 trial_f 1.02323e-08 accepted 1  lowest_f 3.00662e-12\n",
      "basinhopping step 28: f 7.45307e-10 trial_f 7.45307e-10 accepted 1  lowest_f 3.00662e-12\n",
      "basinhopping step 29: f 3.13748e-11 trial_f 3.13748e-11 accepted 1  lowest_f 3.00662e-12\n",
      "basinhopping step 30: f 4.66249e-10 trial_f 4.66249e-10 accepted 1  lowest_f 3.00662e-12\n",
      "basinhopping step 31: f 3.34977e-11 trial_f 3.34977e-11 accepted 1  lowest_f 3.00662e-12\n",
      "basinhopping step 32: f 2.24e-10 trial_f 2.24e-10 accepted 1  lowest_f 3.00662e-12\n",
      "basinhopping step 33: f 1.14621e-10 trial_f 1.14621e-10 accepted 1  lowest_f 3.00662e-12\n",
      "basinhopping step 34: f 9.6211e-11 trial_f 9.6211e-11 accepted 1  lowest_f 3.00662e-12\n",
      "basinhopping step 35: f 3.09436e-11 trial_f 3.09436e-11 accepted 1  lowest_f 3.00662e-12\n",
      "basinhopping step 36: f 3.08005e-11 trial_f 3.08005e-11 accepted 1  lowest_f 3.00662e-12\n",
      "basinhopping step 37: f 4.19526e-10 trial_f 4.19526e-10 accepted 1  lowest_f 3.00662e-12\n",
      "basinhopping step 38: f 4.84683e-11 trial_f 4.84683e-11 accepted 1  lowest_f 3.00662e-12\n",
      "basinhopping step 39: f 2.87622e-10 trial_f 2.87622e-10 accepted 1  lowest_f 3.00662e-12\n",
      "basinhopping step 40: f 7.30167e-11 trial_f 7.30167e-11 accepted 1  lowest_f 3.00662e-12\n",
      "basinhopping step 41: f 6.62024e-10 trial_f 6.62024e-10 accepted 1  lowest_f 3.00662e-12\n",
      "basinhopping step 42: f 3.08629e-11 trial_f 3.08629e-11 accepted 1  lowest_f 3.00662e-12\n",
      "basinhopping step 43: f 4.41011e-11 trial_f 4.41011e-11 accepted 1  lowest_f 3.00662e-12\n",
      "basinhopping step 44: f 1.64446e-09 trial_f 1.64446e-09 accepted 1  lowest_f 3.00662e-12\n",
      "basinhopping step 45: f 3.96827e-11 trial_f 3.96827e-11 accepted 1  lowest_f 3.00662e-12\n",
      "basinhopping step 46: f 1.38295e-10 trial_f 1.38295e-10 accepted 1  lowest_f 3.00662e-12\n",
      "basinhopping step 47: f 4.07622e-11 trial_f 4.07622e-11 accepted 1  lowest_f 3.00662e-12\n",
      "basinhopping step 48: f 4.53681e-11 trial_f 4.53681e-11 accepted 1  lowest_f 3.00662e-12\n",
      "basinhopping step 49: f 3.3039e-11 trial_f 3.3039e-11 accepted 1  lowest_f 3.00662e-12\n",
      "adaptive stepsize: acceptance rate 0.980000 target 0.500000 new stepsize 0.555556 old stepsize 0.5\n",
      "basinhopping step 50: f 5.84472e-11 trial_f 5.84472e-11 accepted 1  lowest_f 3.00662e-12\n",
      "basinhopping step 51: f 3.26765e-11 trial_f 3.26765e-11 accepted 1  lowest_f 3.00662e-12\n",
      "basinhopping step 52: f 9.48712e-11 trial_f 9.48712e-11 accepted 1  lowest_f 3.00662e-12\n",
      "basinhopping step 53: f 1.2394e-07 trial_f 1.2394e-07 accepted 1  lowest_f 3.00662e-12\n",
      "basinhopping step 54: f 4.3694e-09 trial_f 4.3694e-09 accepted 1  lowest_f 3.00662e-12\n",
      "basinhopping step 55: f 8.6022e-09 trial_f 8.6022e-09 accepted 1  lowest_f 3.00662e-12\n",
      "basinhopping step 56: f 3.20554e-11 trial_f 3.20554e-11 accepted 1  lowest_f 3.00662e-12\n",
      "basinhopping step 57: f 3.1529e-11 trial_f 3.1529e-11 accepted 1  lowest_f 3.00662e-12\n",
      "basinhopping step 58: f 4.14267e-11 trial_f 4.14267e-11 accepted 1  lowest_f 3.00662e-12\n",
      "basinhopping step 59: f 2.77732e-10 trial_f 2.77732e-10 accepted 1  lowest_f 3.00662e-12\n",
      "basinhopping step 60: f 3.29457e-11 trial_f 3.29457e-11 accepted 1  lowest_f 3.00662e-12\n",
      "basinhopping step 61: f 4.23197e-11 trial_f 4.23197e-11 accepted 1  lowest_f 3.00662e-12\n",
      "basinhopping step 62: f 3.08003e-11 trial_f 3.08003e-11 accepted 1  lowest_f 3.00662e-12\n",
      "basinhopping step 63: f 2.63786e-10 trial_f 2.63786e-10 accepted 1  lowest_f 3.00662e-12\n",
      "basinhopping step 64: f 3.09624e-11 trial_f 3.09624e-11 accepted 1  lowest_f 3.00662e-12\n",
      "basinhopping step 65: f 4.70412e-11 trial_f 4.70412e-11 accepted 1  lowest_f 3.00662e-12\n",
      "basinhopping step 66: f 4.73251e-10 trial_f 4.73251e-10 accepted 1  lowest_f 3.00662e-12\n",
      "basinhopping step 67: f 5.53078e-10 trial_f 5.53078e-10 accepted 1  lowest_f 3.00662e-12\n",
      "basinhopping step 68: f 1.17937e-07 trial_f 1.17937e-07 accepted 1  lowest_f 3.00662e-12\n",
      "basinhopping step 69: f 5.89993e-09 trial_f 5.89993e-09 accepted 1  lowest_f 3.00662e-12\n",
      "basinhopping step 70: f 3.98972e-11 trial_f 3.98972e-11 accepted 1  lowest_f 3.00662e-12\n",
      "basinhopping step 71: f 3.77925e-08 trial_f 3.77925e-08 accepted 1  lowest_f 3.00662e-12\n",
      "basinhopping step 72: f 3.22503e-08 trial_f 3.22503e-08 accepted 1  lowest_f 3.00662e-12\n",
      "basinhopping step 73: f 1.35762e-07 trial_f 1.35762e-07 accepted 1  lowest_f 3.00662e-12\n",
      "basinhopping step 74: f 1.1017e-07 trial_f 1.1017e-07 accepted 1  lowest_f 3.00662e-12\n",
      "basinhopping step 75: f 4.65051e-08 trial_f 4.65051e-08 accepted 1  lowest_f 3.00662e-12\n",
      "basinhopping step 76: f 2.52339e-08 trial_f 2.52339e-08 accepted 1  lowest_f 3.00662e-12\n",
      "basinhopping step 77: f 1.69847e-09 trial_f 1.69847e-09 accepted 1  lowest_f 3.00662e-12\n",
      "basinhopping step 78: f 1.28351e-10 trial_f 1.28351e-10 accepted 1  lowest_f 3.00662e-12\n",
      "basinhopping step 79: f 1.84753e-09 trial_f 1.84753e-09 accepted 1  lowest_f 3.00662e-12\n",
      "basinhopping step 80: f 4.51692e-09 trial_f 4.51692e-09 accepted 1  lowest_f 3.00662e-12\n",
      "basinhopping step 81: f 7.52338e-09 trial_f 7.52338e-09 accepted 1  lowest_f 3.00662e-12\n",
      "basinhopping step 82: f 3.28243e-09 trial_f 3.28243e-09 accepted 1  lowest_f 3.00662e-12\n",
      "basinhopping step 83: f 1.34934e-07 trial_f 1.34934e-07 accepted 1  lowest_f 3.00662e-12\n",
      "basinhopping step 84: f 2.93153e-09 trial_f 2.93153e-09 accepted 1  lowest_f 3.00662e-12\n",
      "basinhopping step 85: f 6.12509e-11 trial_f 6.12509e-11 accepted 1  lowest_f 3.00662e-12\n",
      "basinhopping step 86: f 1.48542e-08 trial_f 1.48542e-08 accepted 1  lowest_f 3.00662e-12\n",
      "basinhopping step 87: f 4.73293e-10 trial_f 4.73293e-10 accepted 1  lowest_f 3.00662e-12\n",
      "basinhopping step 88: f 5.81103e-11 trial_f 5.81103e-11 accepted 1  lowest_f 3.00662e-12\n",
      "basinhopping step 89: f 3.07991e-11 trial_f 3.07991e-11 accepted 1  lowest_f 3.00662e-12\n",
      "basinhopping step 90: f 5.49854e-09 trial_f 5.49854e-09 accepted 1  lowest_f 3.00662e-12\n",
      "basinhopping step 91: f 9.508e-09 trial_f 9.508e-09 accepted 1  lowest_f 3.00662e-12\n",
      "basinhopping step 92: f 1.88881e-08 trial_f 1.88881e-08 accepted 1  lowest_f 3.00662e-12\n"
     ]
    },
    {
     "name": "stdout",
     "output_type": "stream",
     "text": [
      "basinhopping step 93: f 8.03448e-11 trial_f 8.03448e-11 accepted 1  lowest_f 3.00662e-12\n",
      "basinhopping step 94: f 6.69962e-08 trial_f 6.69962e-08 accepted 1  lowest_f 3.00662e-12\n",
      "basinhopping step 95: f 4.89696e-10 trial_f 4.89696e-10 accepted 1  lowest_f 3.00662e-12\n",
      "basinhopping step 96: f 2.81106e-08 trial_f 2.81106e-08 accepted 1  lowest_f 3.00662e-12\n",
      "basinhopping step 97: f 3.5157e-11 trial_f 3.5157e-11 accepted 1  lowest_f 3.00662e-12\n",
      "basinhopping step 98: f 1.49766e-07 trial_f 1.49766e-07 accepted 1  lowest_f 3.00662e-12\n",
      "basinhopping step 99: f 2.44398e-09 trial_f 2.44398e-09 accepted 1  lowest_f 3.00662e-12\n",
      "adaptive stepsize: acceptance rate 0.990000 target 0.500000 new stepsize 0.617284 old stepsize 0.555556\n",
      "basinhopping step 100: f 2.81454e-09 trial_f 2.81454e-09 accepted 1  lowest_f 3.00662e-12\n",
      "                        fun: 3.0066181378701432e-12\n",
      " lowest_optimization_result:       fun: 3.0066181378701432e-12\n",
      " hess_inv: array([[1, 0, 0, 0, 0, 0],\n",
      "       [0, 1, 0, 0, 0, 0],\n",
      "       [0, 0, 1, 0, 0, 0],\n",
      "       [0, 0, 0, 1, 0, 0],\n",
      "       [0, 0, 0, 0, 1, 0],\n",
      "       [0, 0, 0, 0, 0, 1]])\n",
      "      jac: array([-8.02792902e-12,  0.00000000e+00,  6.62225374e-13,  0.00000000e+00,\n",
      "        3.87161641e-08,  8.83996213e-10])\n",
      "  message: 'Optimization terminated successfully.'\n",
      "     nfev: 24\n",
      "      nit: 1\n",
      "     njev: 3\n",
      "   status: 0\n",
      "  success: True\n",
      "        x: array([1.00000000e+00, 2.00000000e-05, 1.20000000e+01, 2.00000000e-01,\n",
      "       1.54071767e-06, 1.50000000e-02])\n",
      "                    message: ['requested number of basinhopping iterations completed successfully']\n",
      "      minimization_failures: 0\n",
      "                       nfev: 6096\n",
      "                        nit: 100\n",
      "                       njev: 762\n",
      "                          x: array([1.00000000e+00, 2.00000000e-05, 1.20000000e+01, 2.00000000e-01,\n",
      "       1.54071767e-06, 1.50000000e-02])\n"
     ]
    }
   ],
   "source": [
    "#Wrap get_SSE\n",
    "objective_function = objective_function_wrapper(tspan, y_data, params[0])\n",
    "#This function now takes in the params as the sole argument and returns the SSE.\n",
    "\n",
    "#Run optimizer.\n",
    "x0     = list(params)[1:] #Remember not to include the inducer!\n",
    "result = basinhopping(objective_function, x0=params, niter=100, disp=True)\n",
    "best_value  = result.fun\n",
    "best_params = result.x\n",
    "print(result)"
   ]
  },
  {
   "cell_type": "code",
   "execution_count": 10,
   "metadata": {},
   "outputs": [
    {
     "data": {
      "image/png": "[encoded data removed]",
      "text/plain": [
       "<Figure size 432x288 with 1 Axes>"
      ]
     },
     "metadata": {},
     "output_type": "display_data"
    }
   ],
   "source": [
    "model_data = odeint(model, y_init, tspan, args=tuple([best_params]))\n",
    "y_model    = model_data[:,1]\n",
    "\n",
    "fig3 = plt.figure()\n",
    "ax3  = fig3.add_subplot(1,1,1)\n",
    "ax3.plot(tspan, y_data,'o')\n",
    "ax3.plot(tspan, y_model)\n",
    "setting = ax1.set(title='Observed data', xlabel='Time (hr)', ylabel='Conc')"
   ]
  },
  {
   "cell_type": "code",
   "execution_count": null,
   "metadata": {},
   "outputs": [],
   "source": []
  }
 ],
 "metadata": {
  "kernelspec": {
   "display_name": "Python 3",
   "language": "python",
   "name": "python3"
  },
  "language_info": {
   "codemirror_mode": {
    "name": "ipython",
    "version": 3
   },
   "file_extension": ".py",
   "mimetype": "text/x-python",
   "name": "python",
   "nbconvert_exporter": "python",
   "pygments_lexer": "ipython3",
   "version": "3.6.5"
  }
 },
 "nbformat": 4,
 "nbformat_minor": 2
}
